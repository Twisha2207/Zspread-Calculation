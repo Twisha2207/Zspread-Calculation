{
 "cells": [
  {
   "cell_type": "code",
   "execution_count": 1,
   "metadata": {},
   "outputs": [
    {
     "name": "stdout",
     "output_type": "stream",
     "text": [
      "[0.0, 5.0, 0.0, 5.0, 0.0, 105.0]\n",
      "[0, 4.867685359633112, 0, 4.701649968703835, 0, 93.51169268807475] 103.0810280164117\n",
      "final value of z-spread = 1.62 %\n"
     ]
    }
   ],
   "source": [
    "from openpyxl import load_workbook, Workbook\n",
    "filename = r\"C:/Users/twish/Documents/wells fargo/z-spread_calculator.xlsx\"\n",
    "wb = load_workbook(filename)\n",
    "ws = wb['Sheet1']\n",
    "\n",
    "govt_bond_yield = []\n",
    "corporate_bond_cash_flow = []\n",
    "face_value = 100\n",
    "\n",
    "for index, row in enumerate(ws.iter_rows()):\n",
    "\tif row[0].value == 'Yield':\n",
    "\t\tfor sem in range(1,11):\n",
    "\t\t\tif row[sem].value is not None:\n",
    "\t\t\t\tgovt_bond_yield.append(float(row[sem].value))\n",
    "\tif row[0].value =='Face':\n",
    "\t\tface_value = row[1].value\n",
    "\tif row[0].value == 'Coupon':\n",
    "\t\tcoupon = row[1].value\n",
    "\t\tmarket_price = face_value*(1-coupon)\n",
    "\tif row[0].value == 'Cash Flow':\n",
    "\t\tfor sem in range(1,11):\n",
    "\t\t\tif row[sem].value is not None:\n",
    "\t\t\t\tcorporate_bond_cash_flow.append(float(row[sem].value))\n",
    "\n",
    "def discounted_value(amount, rate, periods):\n",
    "\treturn amount/(1+rate)**periods if amount > 0 else 0\n",
    "print(corporate_bond_cash_flow)\n",
    "\n",
    "def compute_dcf(govt_bond_yield,corporate_bond_cash_flow, zspread):\n",
    "\tDCF = [] # discounted cash flow for no z-spread case\n",
    "\tn_cycles = len(corporate_bond_cash_flow)\n",
    "\tfor n in range(0,n_cycles):\n",
    "\t    rate = (govt_bond_yield[n]+zspread)/2\n",
    "\t    cash_flow = corporate_bond_cash_flow[n]\n",
    "\t    dcf = discounted_value(cash_flow,rate, n+1)\n",
    "\t    DCF.append(dcf)\n",
    "\treturn DCF\n",
    "DCF = compute_dcf(govt_bond_yield,corporate_bond_cash_flow,0)\n",
    "dcf_value = sum(DCF)\n",
    "print(DCF, dcf_value)\n",
    "\n",
    "alpha = 0.01\n",
    "initial_value = 0.0\n",
    "init_dir = 1.0 # -1 for negative\n",
    "fn = dcf_value - market_price\n",
    "c = 0\n",
    "while abs(fn) >= 0.01:\n",
    "\tc = c + 1\n",
    "\tnew_value = initial_value + alpha*init_dir\n",
    "\tnew_cash_flow = compute_dcf(govt_bond_yield,corporate_bond_cash_flow,new_value)\n",
    "\tnew_fn = sum(new_cash_flow) - market_price\n",
    "\tnew_dir = new_fn/abs(new_fn)\n",
    "\tif not (init_dir == new_dir):\n",
    "\t\talpha = alpha/2\n",
    "\t[initial_value,fn,init_dir] = [new_value, new_fn, new_dir]\n",
    "\tif c > 50:\n",
    "\t\tprint('cannot optimize')\n",
    "\t\tbreak\n",
    "print('final value of z-spread =', round(new_value*100,2), '%')\n"
   ]
  },
  {
   "cell_type": "code",
   "execution_count": null,
   "metadata": {},
   "outputs": [],
   "source": []
  }
 ],
 "metadata": {
  "kernelspec": {
   "display_name": "Python 3",
   "language": "python",
   "name": "python3"
  },
  "language_info": {
   "codemirror_mode": {
    "name": "ipython",
    "version": 3
   },
   "file_extension": ".py",
   "mimetype": "text/x-python",
   "name": "python",
   "nbconvert_exporter": "python",
   "pygments_lexer": "ipython3",
   "version": "3.7.0"
  }
 },
 "nbformat": 4,
 "nbformat_minor": 2
}
